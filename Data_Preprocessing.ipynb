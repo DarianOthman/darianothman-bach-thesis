{
 "cells": [
  {
   "cell_type": "code",
   "execution_count": null,
   "id": "4a2640db-4b56-44e3-9554-224c733e3c44",
   "metadata": {},
   "outputs": [],
   "source": [
    "import pandas as pd\n",
    "import re\n",
    "from sklearn.model_selection import train_test_split"
   ]
  },
  {
   "cell_type": "code",
   "execution_count": 31,
   "id": "3b0a3e24-d7e5-4a6c-b20b-800c279ecb1c",
   "metadata": {
    "tags": []
   },
   "outputs": [
    {
     "name": "stderr",
     "output_type": "stream",
     "text": [
      "/tmp/ipykernel_348424/2948389231.py:3: DtypeWarning: Columns (13) have mixed types. Specify dtype option on import or set low_memory=False.\n",
      "  sdf = pd.read_csv(r'/workspace/share/jsondf.csv')\n"
     ]
    }
   ],
   "source": [
    "#Importing the dataset\n",
    "sdf = pd.read_csv(r'/workspace/share/jsondf.csv')"
   ]
  },
  {
   "cell_type": "code",
   "execution_count": 69,
   "id": "3d006a60-7c01-4e47-b59b-049b81d8f568",
   "metadata": {
    "tags": []
   },
   "outputs": [
    {
     "ename": "KeyError",
     "evalue": "'id'",
     "output_type": "error",
     "traceback": [
      "\u001b[0;31m---------------------------------------------------------------------------\u001b[0m",
      "\u001b[0;31mKeyError\u001b[0m                                  Traceback (most recent call last)",
      "File \u001b[0;32m/usr/local/lib/python3.8/dist-packages/pandas/core/indexes/base.py:3803\u001b[0m, in \u001b[0;36mIndex.get_loc\u001b[0;34m(self, key, method, tolerance)\u001b[0m\n\u001b[1;32m   3802\u001b[0m \u001b[38;5;28;01mtry\u001b[39;00m:\n\u001b[0;32m-> 3803\u001b[0m     \u001b[38;5;28;01mreturn\u001b[39;00m \u001b[38;5;28;43mself\u001b[39;49m\u001b[38;5;241;43m.\u001b[39;49m\u001b[43m_engine\u001b[49m\u001b[38;5;241;43m.\u001b[39;49m\u001b[43mget_loc\u001b[49m\u001b[43m(\u001b[49m\u001b[43mcasted_key\u001b[49m\u001b[43m)\u001b[49m\n\u001b[1;32m   3804\u001b[0m \u001b[38;5;28;01mexcept\u001b[39;00m \u001b[38;5;167;01mKeyError\u001b[39;00m \u001b[38;5;28;01mas\u001b[39;00m err:\n",
      "File \u001b[0;32m/usr/local/lib/python3.8/dist-packages/pandas/_libs/index.pyx:138\u001b[0m, in \u001b[0;36mpandas._libs.index.IndexEngine.get_loc\u001b[0;34m()\u001b[0m\n",
      "File \u001b[0;32m/usr/local/lib/python3.8/dist-packages/pandas/_libs/index.pyx:165\u001b[0m, in \u001b[0;36mpandas._libs.index.IndexEngine.get_loc\u001b[0;34m()\u001b[0m\n",
      "File \u001b[0;32mpandas/_libs/hashtable_class_helper.pxi:5745\u001b[0m, in \u001b[0;36mpandas._libs.hashtable.PyObjectHashTable.get_item\u001b[0;34m()\u001b[0m\n",
      "File \u001b[0;32mpandas/_libs/hashtable_class_helper.pxi:5753\u001b[0m, in \u001b[0;36mpandas._libs.hashtable.PyObjectHashTable.get_item\u001b[0;34m()\u001b[0m\n",
      "\u001b[0;31mKeyError\u001b[0m: 'id'",
      "\nThe above exception was the direct cause of the following exception:\n",
      "\u001b[0;31mKeyError\u001b[0m                                  Traceback (most recent call last)",
      "Cell \u001b[0;32mIn[69], line 2\u001b[0m\n\u001b[1;32m      1\u001b[0m \u001b[38;5;66;03m#From int64 to str\u001b[39;00m\n\u001b[0;32m----> 2\u001b[0m sdf[\u001b[38;5;124m'\u001b[39m\u001b[38;5;124mid\u001b[39m\u001b[38;5;124m'\u001b[39m]\u001b[38;5;241m=\u001b[39m\u001b[43msdf\u001b[49m\u001b[43m[\u001b[49m\u001b[38;5;124;43m'\u001b[39;49m\u001b[38;5;124;43mid\u001b[39;49m\u001b[38;5;124;43m'\u001b[39;49m\u001b[43m]\u001b[49m\u001b[38;5;241m.\u001b[39mastype(\u001b[38;5;28mstr\u001b[39m)\n",
      "File \u001b[0;32m/usr/local/lib/python3.8/dist-packages/pandas/core/frame.py:3805\u001b[0m, in \u001b[0;36mDataFrame.__getitem__\u001b[0;34m(self, key)\u001b[0m\n\u001b[1;32m   3803\u001b[0m \u001b[38;5;28;01mif\u001b[39;00m \u001b[38;5;28mself\u001b[39m\u001b[38;5;241m.\u001b[39mcolumns\u001b[38;5;241m.\u001b[39mnlevels \u001b[38;5;241m>\u001b[39m \u001b[38;5;241m1\u001b[39m:\n\u001b[1;32m   3804\u001b[0m     \u001b[38;5;28;01mreturn\u001b[39;00m \u001b[38;5;28mself\u001b[39m\u001b[38;5;241m.\u001b[39m_getitem_multilevel(key)\n\u001b[0;32m-> 3805\u001b[0m indexer \u001b[38;5;241m=\u001b[39m \u001b[38;5;28;43mself\u001b[39;49m\u001b[38;5;241;43m.\u001b[39;49m\u001b[43mcolumns\u001b[49m\u001b[38;5;241;43m.\u001b[39;49m\u001b[43mget_loc\u001b[49m\u001b[43m(\u001b[49m\u001b[43mkey\u001b[49m\u001b[43m)\u001b[49m\n\u001b[1;32m   3806\u001b[0m \u001b[38;5;28;01mif\u001b[39;00m is_integer(indexer):\n\u001b[1;32m   3807\u001b[0m     indexer \u001b[38;5;241m=\u001b[39m [indexer]\n",
      "File \u001b[0;32m/usr/local/lib/python3.8/dist-packages/pandas/core/indexes/base.py:3805\u001b[0m, in \u001b[0;36mIndex.get_loc\u001b[0;34m(self, key, method, tolerance)\u001b[0m\n\u001b[1;32m   3803\u001b[0m     \u001b[38;5;28;01mreturn\u001b[39;00m \u001b[38;5;28mself\u001b[39m\u001b[38;5;241m.\u001b[39m_engine\u001b[38;5;241m.\u001b[39mget_loc(casted_key)\n\u001b[1;32m   3804\u001b[0m \u001b[38;5;28;01mexcept\u001b[39;00m \u001b[38;5;167;01mKeyError\u001b[39;00m \u001b[38;5;28;01mas\u001b[39;00m err:\n\u001b[0;32m-> 3805\u001b[0m     \u001b[38;5;28;01mraise\u001b[39;00m \u001b[38;5;167;01mKeyError\u001b[39;00m(key) \u001b[38;5;28;01mfrom\u001b[39;00m \u001b[38;5;21;01merr\u001b[39;00m\n\u001b[1;32m   3806\u001b[0m \u001b[38;5;28;01mexcept\u001b[39;00m \u001b[38;5;167;01mTypeError\u001b[39;00m:\n\u001b[1;32m   3807\u001b[0m     \u001b[38;5;66;03m# If we have a listlike key, _check_indexing_error will raise\u001b[39;00m\n\u001b[1;32m   3808\u001b[0m     \u001b[38;5;66;03m#  InvalidIndexError. Otherwise we fall through and re-raise\u001b[39;00m\n\u001b[1;32m   3809\u001b[0m     \u001b[38;5;66;03m#  the TypeError.\u001b[39;00m\n\u001b[1;32m   3810\u001b[0m     \u001b[38;5;28mself\u001b[39m\u001b[38;5;241m.\u001b[39m_check_indexing_error(key)\n",
      "\u001b[0;31mKeyError\u001b[0m: 'id'"
     ]
    }
   ],
   "source": [
    "#From int64 to str\n",
    "sdf['id']=sdf['id'].astype(str)\n",
    "\n",
    "#Opening the post_info.xslx file\n",
    "info=pd.read_excel(r'post_info.xlsx', header=None)\n",
    "info.columns=['num','owner.id','sponsored','id','pic']\n",
    "\n",
    "#From col obj to str for compatibility\n",
    "info['id']=info['id'].astype(str)\n",
    "\n",
    "#For easy merging\n",
    "info['id'] = info['id'].str.replace(r'.json', '')\n",
    "\n",
    "#Merging\n",
    "sdf = pd.DataFrame(pd.merge(sdf, info, how= 'inner', left_on=['id'], right_on=['id']))\n",
    "\n",
    "sdf=sdf.dropna(subset=['comments_disabled'])\n",
    "sdf=sdf.set_index(['id'])"
   ]
  },
  {
   "cell_type": "code",
   "execution_count": 38,
   "id": "652086ec-0d41-4453-988c-6e3a4ded8cb2",
   "metadata": {
    "tags": []
   },
   "outputs": [
    {
     "name": "stderr",
     "output_type": "stream",
     "text": [
      "/tmp/ipykernel_348424/1318166421.py:3: SettingWithCopyWarning: \n",
      "A value is trying to be set on a copy of a slice from a DataFrame\n",
      "\n",
      "See the caveats in the documentation: https://pandas.pydata.org/pandas-docs/stable/user_guide/indexing.html#returning-a-view-versus-a-copy\n",
      "  sdf['pic_count'][i] = str(sdf['pic'][i]).count('.jpg')\n"
     ]
    }
   ],
   "source": [
    "sdf['pic_count']=0\n",
    "for i in range(len(sdf)):\n",
    "    sdf['pic_count'][i] = str(sdf['pic'][i]).count('.jpg')\n",
    "\n",
    "sdf['hashtag_count']=0\n",
    "for i in range(len(sdf)):\n",
    "    sdf['hashtag_count'][i] = str(sdf['edge_media_to_caption'][i]).count('#')\n",
    "\n",
    "sdf['tag_count']=0\n",
    "for i in range(len(sdf)):\n",
    "    sdf['tag_count'][i] = str(sdf['edge_media_to_caption'][i]).count('@')"
   ]
  },
  {
   "cell_type": "code",
   "execution_count": 41,
   "id": "2bf5a899-fba9-43c8-944e-74aa20d4f958",
   "metadata": {
    "tags": []
   },
   "outputs": [],
   "source": [
    "sdf['ind']=range(len(sdf))\n",
    "sdf=sdf.set_index(sdf['ind'])\n",
    "sdf=sdf[sdf['edge_media_to_caption']!='[]']\n",
    "\n",
    "sdf['edge_media_to_comment'] = sdf['edge_media_to_comment'].apply(lambda x: re.findall('\\d+', x)[0])\n",
    "sdf['edge_media_preview_like'] = sdf['edge_media_preview_like'].apply(lambda x: re.findall('\\d+', x)[0])\n",
    "sdf['edge_media_to_caption'] = sdf['edge_media_to_caption'].apply(lambda x: x[30:-5])\n",
    "\n",
    "sdf = sdf.dropna(subset=['owner.id'])"
   ]
  },
  {
   "cell_type": "code",
   "execution_count": 45,
   "id": "5a2232ef-54dd-4dd5-a482-5f11f5337321",
   "metadata": {
    "tags": []
   },
   "outputs": [],
   "source": [
    "influencerdf = pd.read_csv(r'/workspace/share/influencerdf.csv')"
   ]
  },
  {
   "cell_type": "code",
   "execution_count": 47,
   "id": "ecf4e630-5eef-45d6-9bfb-11eeb34dca81",
   "metadata": {
    "tags": []
   },
   "outputs": [],
   "source": [
    "#Merging\n",
    "ndf = pd.DataFrame(pd.merge(left=sdf, right=influencerdf, how='left', left_on=['owner.id'], right_on=['tag']))\n",
    "\n",
    "ndf=ndf.dropna(subset=['comments_disabled','Posts'])\n",
    "ndf['edge_media_to_caption']=ndf['edge_media_to_caption'].astype(str)"
   ]
  },
  {
   "cell_type": "code",
   "execution_count": 49,
   "id": "8399fcdc-5bcd-4bde-be35-cd4bc4fc3a58",
   "metadata": {},
   "outputs": [],
   "source": [
    "ndf.to_csv('ndf.csv')"
   ]
  },
  {
   "cell_type": "code",
   "execution_count": 50,
   "id": "516c4b67-9014-4eea-ae5c-5a7b6aaa2310",
   "metadata": {},
   "outputs": [
    {
     "name": "stderr",
     "output_type": "stream",
     "text": [
      "/tmp/ipykernel_348424/1617948190.py:2: DtypeWarning: Columns (14) have mixed types. Specify dtype option on import or set low_memory=False.\n",
      "  ndf = pd.read_csv(r'/workspace/share/ndf.csv')\n"
     ]
    }
   ],
   "source": [
    "ndf = pd.read_csv(r'/workspace/share/ndf.csv')"
   ]
  },
  {
   "cell_type": "code",
   "execution_count": 52,
   "id": "e85afc2f-c9cf-4293-82b0-fc2f7a5fe530",
   "metadata": {
    "tags": []
   },
   "outputs": [],
   "source": [
    "def replace_newline(string):\n",
    "    modified_string = string.replace('\\\\n', ' ')\n",
    "    return modified_string"
   ]
  },
  {
   "cell_type": "code",
   "execution_count": 54,
   "id": "6682d8ac-a00f-40c9-8b40-8d2a0fb8be32",
   "metadata": {
    "tags": []
   },
   "outputs": [],
   "source": [
    "brandsdf = pd.read_csv(r'/workspace/share/brandsdf.csv')\n",
    "brandsdf=brandsdf.dropna(subset=['Category'])\n",
    "brandsdf=brandsdf.drop(['ind'],axis=1)\n",
    "brandsdf=brandsdf.drop(['ind.1'],axis=1)\n",
    "brandsdf['ind']=range(len(brandsdf))\n",
    "brandsdf=brandsdf.set_index(brandsdf['ind'])\n",
    "\n",
    "#count=0\n",
    "#while count<len(brandsdf):\n",
    "  #brandsdf['tag'][count]= '@'+brandsdf['tag'][count]\n",
    "  #count=count+1\n",
    "\n",
    "brandsdf.to_csv(r'/workspace/share/brandsdf.csv', index = True)"
   ]
  },
  {
   "cell_type": "code",
   "execution_count": 62,
   "id": "cf23aa83-e2e2-4053-bcb3-6d86f55469f4",
   "metadata": {},
   "outputs": [],
   "source": [
    "ndf['ind']=range(len(ndf))\n",
    "ndf=ndf.set_index(ndf['ind'])"
   ]
  },
  {
   "cell_type": "code",
   "execution_count": 63,
   "id": "6b755057-295b-4703-a161-bba7b99bb384",
   "metadata": {
    "tags": []
   },
   "outputs": [],
   "source": [
    "def get_substrings_after(string, char):\n",
    "    words = string.split()\n",
    "    result = [word[word.index(char) + 1:] for word in words if char in word]\n",
    "    return result"
   ]
  },
  {
   "cell_type": "code",
   "execution_count": 64,
   "id": "aa66376a-c1df-4d0f-9e50-dbc8800bce9f",
   "metadata": {
    "tags": []
   },
   "outputs": [
    {
     "name": "stderr",
     "output_type": "stream",
     "text": [
      "/tmp/ipykernel_348424/3185902475.py:3: SettingWithCopyWarning: \n",
      "A value is trying to be set on a copy of a slice from a DataFrame\n",
      "\n",
      "See the caveats in the documentation: https://pandas.pydata.org/pandas-docs/stable/user_guide/indexing.html#returning-a-view-versus-a-copy\n",
      "  ndf['brands'][i]=get_substrings_after(ndf['edge_media_to_caption'][i], '@')\n",
      "IOStream.flush timed out\n"
     ]
    }
   ],
   "source": [
    "ndf['brands']=0\n",
    "for i,rows in ndf.iterrows():\n",
    "    ndf['brands'][i]=get_substrings_after(ndf['edge_media_to_caption'][i], '@')\n",
    "\n",
    "ndf=ndf.filter(['edge_media_preview_like', 'edge_media_to_caption','edge_media_to_comment', 'is_ad','shortcode','taken_at_timestamp','owner.id','sponsored','pic', 'pic_count', 'hashtag_count', 'tag_count','Name', 'Followers', 'Followees', 'Posts','Category', 'Bio', 'E-mail', 'Phone','tag','brands'])\n",
    "\n",
    "ndf.to_csv('ndf.csv')"
   ]
  },
  {
   "cell_type": "code",
   "execution_count": 67,
   "id": "16ca2a9f-c4e5-41fb-865a-b28a72e4c8a7",
   "metadata": {
    "tags": []
   },
   "outputs": [],
   "source": [
    "train_ndf, sample_thales = train_test_split(ndf, test_size=0.2, random_state=42)\n",
    "\n",
    "sample_thales.to_csv('sample_thales.csv')"
   ]
  }
 ],
 "metadata": {
  "kernelspec": {
   "display_name": "Python 3 (ipykernel)",
   "language": "python",
   "name": "python3"
  },
  "language_info": {
   "codemirror_mode": {
    "name": "ipython",
    "version": 3
   },
   "file_extension": ".py",
   "mimetype": "text/x-python",
   "name": "python",
   "nbconvert_exporter": "python",
   "pygments_lexer": "ipython3",
   "version": "3.8.10"
  }
 },
 "nbformat": 4,
 "nbformat_minor": 5
}
