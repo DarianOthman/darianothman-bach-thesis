{
 "cells": [
  {
   "cell_type": "code",
   "execution_count": null,
   "metadata": {},
   "outputs": [],
   "source": [
    "import pandas as pd\n",
    "import json\n",
    "from pathlib import Path\n",
    "import os, glob"
   ]
  },
  {
   "cell_type": "code",
   "execution_count": 2,
   "metadata": {
    "tags": []
   },
   "outputs": [],
   "source": [
    "# Define the directory path where the JSON files are located\n",
    "directory_path = '/workspace/persistent/json'\n",
    "\n",
    "# Get a list of all JSON files in the directory\n",
    "json_files = list(Path(directory_path).rglob('*.json'))\n",
    "\n",
    "# Create an empty list to store the data\n",
    "data = []\n",
    "\n",
    "# Iterate over each JSON file\n",
    "for file in json_files:\n",
    "    with open(file) as json_file:\n",
    "        # Load the JSON data\n",
    "        json_data = json.load(json_file)\n",
    "        \n",
    "        # Append the JSON data to the list\n",
    "        data.append(json_data)\n",
    "\n",
    "# Create a DataFrame from the list of JSON data\n",
    "df = pd.DataFrame(data)\n",
    "\n",
    "jsondf=df\n",
    "jsondf.to_csv('/workspace/share/jsondf.csv')"
   ]
  },
  {
   "cell_type": "code",
   "execution_count": 2,
   "metadata": {},
   "outputs": [],
   "source": [
    "brandsdf=pd.DataFrame()\n",
    "path = r'C:\\Users\\I6240624\\OneDrive\\TRP\\Work\\profiles_brands\\users_brands_SPOD'\n",
    "rootdir = r'C:\\Users\\I6240624\\OneDrive\\TRP\\Work\\profiles_brands\\users_brands_SPOD'\n",
    "for filename in glob.glob(os.path.join(path, '*.txt')):\n",
    "   with open(os.path.join(os.getcwd(), filename), 'r') as f: \n",
    "      data =  pd.read_fwf(filename, delimiter = '\\t', engine='python', header=None)\n",
    "      brandsdf=pd.concat([brandsdf,data], axis=0)"
   ]
  },
  {
   "cell_type": "code",
   "execution_count": null,
   "metadata": {},
   "outputs": [],
   "source": [
    "col=['Name','Followers','Followees','Posts','URL','T/F','Category','Bio','E-mail','Phone','Profile_pic']\n",
    "brandsdf.columns=col\n",
    "\n",
    "brandsdf_csv = brandsdf.to_csv('brandsdf.csv', index = True)\n",
    "brandsdf=pd.read('brandsdf.csv')\n",
    "\n",
    "i = brandsdf[(brandsdf['Unnamed: 0']>0)].index\n",
    "brandsdf=brandsdf.drop(i)"
   ]
  },
  {
   "cell_type": "code",
   "execution_count": null,
   "metadata": {},
   "outputs": [],
   "source": [
    "path = r'C:\\Users\\I6240624\\OneDrive\\TRP\\Work\\profiles_brands\\users_brands_SPOD'\n",
    "dir_list = os.listdir(path)\n",
    "datax=pd.DataFrame({'tag':dir_list})\n",
    "count=0\n",
    "while count<len(datax):\n",
    "    datax['tag'].iloc[count]=datax['tag'].iloc[count][:-4]\n",
    "    count=count+1\n",
    "datax"
   ]
  },
  {
   "cell_type": "code",
   "execution_count": 36,
   "metadata": {},
   "outputs": [],
   "source": [
    "brandsdf['ind']=range(len(brandsdf))\n",
    "brandsdf=brandsdf.set_index(brandsdf['ind'])\n",
    "\n",
    "brandsdf['tag']=datax['tag']"
   ]
  },
  {
   "cell_type": "code",
   "execution_count": 26,
   "metadata": {},
   "outputs": [],
   "source": [
    "brandsdf_csv = brandsdf.to_csv('brandsdf.csv', index = True)"
   ]
  },
  {
   "cell_type": "code",
   "execution_count": 1,
   "metadata": {},
   "outputs": [],
   "source": [
    "rootdir = r'C:\\Users\\I6240624\\OneDrive\\TRP\\Work\\profiles_influencers\\users_influencers_SPOD'\n",
    "path = r'C:\\Users\\I6240624\\OneDrive\\TRP\\Work\\profiles_influencers\\users_influencers_SPOD'\n",
    "influencerdf = pd.DataFrame()\n",
    "for filename in glob.glob(os.path.join(path, '*.txt')):\n",
    "   with open(os.path.join(os.getcwd(), filename), 'r') as f: \n",
    "    data =  pd.read_fwf(filename, delimiter = '\\t', engine='python', header=None)\n",
    "    influencerdf=pd.concat([influencerdf,data], axis=0)\n"
   ]
  },
  {
   "cell_type": "code",
   "execution_count": 2,
   "metadata": {},
   "outputs": [],
   "source": [
    "col=['Name','Followers','Followees','Posts','URL','T/F','Category','Bio','E-mail','Phone','Profile_pic']\n",
    "influencerdf.columns=col\n",
    "influencerdf['Name_lower'] = influencerdf['Name'].str.lower()\n",
    "\n",
    "influencerdf['Name_lower']=influencerdf['Name_lower'].astype(str)\n",
    "\n",
    "count=0\n",
    "while count<len(influencerdf):\n",
    "    influencerdf['Name_lower'][count]=influencerdf['Name_lower'][count].split(' ', 1)[0]\n",
    "    count=count+1"
   ]
  },
  {
   "cell_type": "code",
   "execution_count": 2,
   "metadata": {},
   "outputs": [],
   "source": [
    "path = r'/workspace/share'\n",
    "dir_list = os.listdir(path)\n",
    "datax=pd.DataFrame({'tag':dir_list})\n",
    "count=0\n",
    "while count<len(datax):\n",
    "    datax['tag'].iloc[count]=datax['tag'].iloc[count][:-4]\n",
    "    count=count+1\n",
    "datax\n",
    "\n",
    "influencerdf['ind']=range(len(influencerdf))\n",
    "influencerdf=influencerdf.set_index(influencerdf['ind'])\n",
    "influencerdf['tag']=datax['tag']\n",
    "\n",
    "influencerdf = influencerdf.to_csv('influencerdf.csv', index = True)"
   ]
  }
 ],
 "metadata": {
  "kernelspec": {
   "display_name": "Python 3 (ipykernel)",
   "language": "python",
   "name": "python3"
  },
  "language_info": {
   "codemirror_mode": {
    "name": "ipython",
    "version": 3
   },
   "file_extension": ".py",
   "mimetype": "text/x-python",
   "name": "python",
   "nbconvert_exporter": "python",
   "pygments_lexer": "ipython3",
   "version": "3.8.10"
  }
 },
 "nbformat": 4,
 "nbformat_minor": 4
}
