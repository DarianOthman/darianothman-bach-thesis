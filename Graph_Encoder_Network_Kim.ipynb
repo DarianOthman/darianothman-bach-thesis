{
 "cells": [
  {
   "cell_type": "code",
   "execution_count": null,
   "metadata": {},
   "outputs": [],
   "source": [
    "import networkx as nx\n",
    "import pandas as pd\n",
    "from sklearn.model_selection import train_test_split\n",
    "import numpy as np\n",
    "import re\n",
    "import scipy.sparse as sp\n",
    "import torch\n",
    "import torch.nn as nn\n",
    "import torch.nn.functional as F\n",
    "from torch_geometric.nn import GATConv\n",
    "from scipy.sparse import coo_matrix\n",
    "import evaluate"
   ]
  },
  {
   "cell_type": "code",
   "execution_count": null,
   "metadata": {
    "tags": []
   },
   "outputs": [],
   "source": [
    "post = nx.Graph()"
   ]
  },
  {
   "cell_type": "code",
   "execution_count": null,
   "metadata": {
    "tags": []
   },
   "outputs": [],
   "source": [
    "import pickle\n",
    "with open('/workspace/persistent/ndf.pkl', 'rb') as file:\n",
    "    # Load the contents of the PKL file\n",
    "    ndf = pickle.load(file)"
   ]
  },
  {
   "cell_type": "code",
   "execution_count": null,
   "metadata": {
    "tags": []
   },
   "outputs": [],
   "source": [
    "import pickle\n",
    "test_indices=[]\n",
    "with open('/workspace/persistent/test_split_kim.pkl', 'rb') as file:\n",
    "    # Load the contents of the PKL file\n",
    "    test_split = pickle.load(file)\n",
    "test_split=test_split.dropna(subset=['edge_media_to_caption'])\n",
    "test_indices=test_split.index.tolist()\n",
    "test_split['id']=0\n",
    "test_split['id']=range(len(test_split))\n",
    "test_split = test_split.set_index(test_split['id'])\n",
    "test_target=[]\n",
    "for i,rows in test_split.iterrows():\n",
    "    test_target.append(int(test_split['sponsored'][i]))"
   ]
  },
  {
   "cell_type": "code",
   "execution_count": null,
   "metadata": {
    "tags": []
   },
   "outputs": [],
   "source": [
    "import pickle\n",
    "train_indices=[]\n",
    "with open('/workspace/persistent/train_split_kim.pkl', 'rb') as file:\n",
    "    # Load the contents of the PKL file\n",
    "    train_split = pickle.load(file)\n",
    "train_split=train_split.dropna(subset=['edge_media_to_caption'])\n",
    "train_indices=train_split.index.tolist()\n",
    "train_split['id']=0\n",
    "train_split['id']=range(len(train_split))\n",
    "train_split = train_split.set_index(train_split['id'])\n",
    "train_target=[]\n",
    "for i,rows in train_split.iterrows():\n",
    "    train_target.append(int(train_split['sponsored'][i]))"
   ]
  },
  {
   "cell_type": "code",
   "execution_count": null,
   "metadata": {
    "tags": []
   },
   "outputs": [],
   "source": [
    "y_train = [float(train_split['sponsored'][i]) for i in range(len(train_split))] + [float(0)] * (len(post)-len(train_split))"
   ]
  },
  {
   "cell_type": "code",
   "execution_count": null,
   "metadata": {
    "tags": []
   },
   "outputs": [],
   "source": [
    "import pickle\n",
    "val_indices=[]\n",
    "with open('/workspace/persistent/eval_split_kim.pkl', 'rb') as file:\n",
    "    # Load the contents of the PKL file\n",
    "    eval_split = pickle.load(file)\n",
    "eval_split=eval_split.dropna(subset=['edge_media_to_caption'])\n",
    "val_indices=eval_split.index.tolist()\n",
    "eval_split['id']=0\n",
    "eval_split['id']=range(len(eval_split))\n",
    "eval_split = eval_split.set_index(eval_split['id'])\n",
    "eval_target=[]\n",
    "for i,rows in eval_split.iterrows():\n",
    "    eval_target.append(int(eval_split['sponsored'][i]))"
   ]
  },
  {
   "cell_type": "code",
   "execution_count": null,
   "metadata": {
    "tags": []
   },
   "outputs": [],
   "source": [
    "# Transforming the 'sponsored' column into numerical values\n",
    "ndf['sponsored'] = np.where(ndf['sponsored'], 1, 0)"
   ]
  },
  {
   "cell_type": "code",
   "execution_count": null,
   "metadata": {
    "tags": []
   },
   "outputs": [],
   "source": [
    "category_mapping = {\n",
    "    'Creators & Celebrities': 1,\n",
    "    'Publishers': 2,\n",
    "    'Personal Goods & General Merchandise Stores': 3,\n",
    "    'General Interest': 4,\n",
    "    'Non-Profits & Religious Organizations': 5,\n",
    "    'Transportation & Accomodation Services': 6,\n",
    "    'Home Services': 7,\n",
    "    'Business & Utility Services': 8,\n",
    "    'Home Goods Stores': 9,\n",
    "    'Lifestyle Services': 10,\n",
    "    'Local Events': 11,\n",
    "    'Food & Personal Goods': 12,\n",
    "    'Professional Services': 13,\n",
    "    'Content & Apps': 14,\n",
    "    'Grocery & Convenience Stores': 15,\n",
    "    'Restaurants': 16,\n",
    "    'Auto Dealers': 17,\n",
    "    'Government Agencies': 18,\n",
    "    'Entities': 19,\n",
    "    'Geography': 20,\n",
    "    'Home & Auto': 21\n",
    "}\n",
    "\n",
    "ndf['Category'] = ndf['Category'].map(category_mapping)"
   ]
  },
  {
   "cell_type": "code",
   "execution_count": null,
   "metadata": {
    "tags": []
   },
   "outputs": [],
   "source": [
    "count = 0\n",
    "while count<len(ndf):\n",
    "    post.add_nodes_from([(str(ndf['shortcode'][count]),{'x':(ndf['edge_media_preview_like'][count]), 'comments': (ndf['edge_media_to_comment'][count]),'followers': 0,'followees':0,'posts':0, 'hashtags':(ndf['hashtag_count'][count]),'tags':float(ndf['tag_count'][count]), 'category':0, 'pics': float(ndf['pic_count'][count]), 'time': float(ndf['taken_at_timestamp'][count]), 'y':ndf['sponsored'][count]})])\n",
    "    count=count+1"
   ]
  },
  {
   "cell_type": "code",
   "execution_count": null,
   "metadata": {
    "tags": []
   },
   "outputs": [],
   "source": [
    "influencer = nx.Graph()"
   ]
  },
  {
   "cell_type": "code",
   "execution_count": null,
   "metadata": {
    "tags": []
   },
   "outputs": [],
   "source": [
    "influencerdf = pd.read_csv('/workspace/persistent/influencerdf.csv')\n",
    "influencerdf=influencerdf.dropna(subset=['Category'])\n"
   ]
  },
  {
   "cell_type": "code",
   "execution_count": null,
   "metadata": {
    "tags": []
   },
   "outputs": [],
   "source": [
    "influencerdf['id']=0\n",
    "influencerdf['id']=range(len(influencerdf))\n",
    "influencerdf = influencerdf.set_index(influencerdf['id'])"
   ]
  },
  {
   "cell_type": "code",
   "execution_count": null,
   "metadata": {
    "tags": []
   },
   "outputs": [],
   "source": [
    "category_mapping = {\n",
    "    'Creators & Celebrities': 1,\n",
    "    'Publishers': 2,\n",
    "    'Personal Goods & General Merchandise Stores': 3,\n",
    "    'General Interest': 4,\n",
    "    'Non-Profits & Religious Organizations': 5,\n",
    "    'Transportation & Accomodation Services': 6,\n",
    "    'Home Services': 7,\n",
    "    'Business & Utility Services': 8,\n",
    "    'Home Goods Stores': 9,\n",
    "    'Lifestyle Services': 10,\n",
    "    'Local Events': 11,\n",
    "    'Food & Personal Goods': 12,\n",
    "    'Professional Services': 13,\n",
    "    'Content & Apps': 14,\n",
    "    'Grocery & Convenience Stores': 15,\n",
    "    'Restaurants': 16,\n",
    "    'Auto Dealers': 17,\n",
    "    'Government Agencies': 18,\n",
    "    'Entities': 19,\n",
    "    'Geography': 20,\n",
    "    'Home & Auto': 21\n",
    "}\n",
    "\n",
    "influencerdf['Category'] = influencerdf['Category'].map(category_mapping)"
   ]
  },
  {
   "cell_type": "code",
   "execution_count": null,
   "metadata": {
    "tags": []
   },
   "outputs": [],
   "source": [
    "b=influencerdf.merge(ndf,left_on='Name',right_on='Name',how='inner')\n",
    "b=b.merge(ndf,left_on='shortcode',right_on='shortcode',how='inner')\n",
    "b['Combined'] = b['Name_x'].str.cat(b['shortcode'], sep='')"
   ]
  },
  {
   "cell_type": "code",
   "execution_count": null,
   "metadata": {
    "tags": []
   },
   "outputs": [],
   "source": [
    "count = 0\n",
    "while count<len(b):\n",
    "    post.add_nodes_from([(str(b['Combined'][count]),{'x':0.0, 'comments': 0,'followers':float(b['Followers_x'][count]),'followees':float(b['Followees_x'][count]),'posts':float(b['Posts_x'][count]), 'hashtags':0, 'tags':0,'category':float(b['Category_x'][count]), 'pics': 0, 'time': 0, 'y':float(b['sponsored_y'][count])})])\n",
    "    count=count+1"
   ]
  },
  {
   "cell_type": "code",
   "execution_count": null,
   "metadata": {
    "tags": []
   },
   "outputs": [],
   "source": [
    "brand = nx.Graph()"
   ]
  },
  {
   "cell_type": "code",
   "execution_count": null,
   "metadata": {
    "tags": []
   },
   "outputs": [],
   "source": [
    "branddf = pd.read_csv('/workspace/persistent/brandsdf.csv')\n",
    "branddf=branddf.dropna(subset=['Category'])\n",
    "branddf['tag']=branddf['tag'].astype(str)"
   ]
  },
  {
   "cell_type": "code",
   "execution_count": null,
   "metadata": {
    "tags": []
   },
   "outputs": [],
   "source": [
    "branddf['id']=0\n",
    "branddf['id']=range(len(branddf))\n",
    "branddf = branddf.set_index(branddf['id'])\n",
    "branddf['tag'] = branddf['tag'].str[1:]"
   ]
  },
  {
   "cell_type": "code",
   "execution_count": null,
   "metadata": {
    "tags": []
   },
   "outputs": [],
   "source": [
    "branddf['Category'] = branddf['Category'].map(category_mapping)"
   ]
  },
  {
   "cell_type": "code",
   "execution_count": null,
   "metadata": {
    "tags": []
   },
   "outputs": [],
   "source": [
    "pic = []\n",
    "shortcode = []\n",
    "\n",
    "for i, rows in ndf.iterrows():\n",
    "    row_text = re.sub(r\"['\\[\\]]\", '', ndf['brands'][i])  # Remove single quotes, square brackets\n",
    "    row_matches = re.findall(r'[^,]+', row_text)  # Parse after every comma\n",
    "    pic.extend(row_matches)\n",
    "    shortcode.extend([ndf['shortcode'][i]] * len(row_matches))\n",
    "\n",
    "# Create a DataFrame with the matches and associated values\n",
    "imgdf = pd.DataFrame({'brand': pic, 'shortcode': shortcode})\n"
   ]
  },
  {
   "cell_type": "code",
   "execution_count": null,
   "metadata": {
    "tags": []
   },
   "outputs": [],
   "source": [
    "filtered_imgdf = imgdf[imgdf['brand'].isin(branddf['tag'])]\n",
    "merged_df = pd.merge(filtered_imgdf, branddf, left_on='brand', right_on='tag', how='inner')\n",
    "branddf=merged_df"
   ]
  },
  {
   "cell_type": "code",
   "execution_count": null,
   "metadata": {
    "tags": []
   },
   "outputs": [],
   "source": [
    "a=imgdf.merge(branddf,left_on='shortcode',right_on='shortcode',how='inner')\n",
    "a=a.merge(ndf,left_on='shortcode',right_on='shortcode',how='inner')\n",
    "a['Combined'] = a['brand_x'].str.cat(a['shortcode'], sep='')"
   ]
  },
  {
   "cell_type": "code",
   "execution_count": null,
   "metadata": {},
   "outputs": [],
   "source": [
    "count = 0\n",
    "while count<len(a):\n",
    "    post.add_nodes_from([(str(a['Combined'][count]),{'x':0.0, 'comments': 0,'followers':float(a['Followers_x'][count]),'followees':float(a['Followees_x'][count]),'posts':float(a['Posts_x'][count]), 'hashtags':0, 'tags':0, 'category':float(a['Category_x'][count]), 'pics': 0, 'time': 0, 'y':float(a['sponsored'][count])})])\n",
    "    count=count+1"
   ]
  },
  {
   "cell_type": "code",
   "execution_count": null,
   "metadata": {
    "tags": []
   },
   "outputs": [],
   "source": [
    "# Iterate over each row in ndf\n",
    "for i, row in a.iterrows():\n",
    "     post.add_edge(a['Combined'][i], a['shortcode'][i])\n",
    "for i, row in b.iterrows():\n",
    "     post.add_edge(b['Combined'][i], b['shortcode'][i])"
   ]
  },
  {
   "cell_type": "code",
   "execution_count": null,
   "metadata": {
    "tags": []
   },
   "outputs": [],
   "source": [
    "post=nx.convert_node_labels_to_integers(post, first_label=0)"
   ]
  },
  {
   "cell_type": "code",
   "execution_count": null,
   "metadata": {
    "tags": []
   },
   "outputs": [],
   "source": [
    "node"
   ]
  },
  {
   "cell_type": "code",
   "execution_count": null,
   "metadata": {
    "tags": []
   },
   "outputs": [],
   "source": [
    "nodes_to_drop = [2934209]\n",
    "post.remove_nodes_from(nodes_to_drop)"
   ]
  },
  {
   "cell_type": "code",
   "execution_count": null,
   "metadata": {
    "tags": []
   },
   "outputs": [],
   "source": [
    "import numpy as np\n",
    "\n",
    "def create_mask(indices, size):\n",
    "    mask = np.zeros(size, dtype=bool)\n",
    "    mask[indices] = True\n",
    "    return mask\n",
    "\n",
    "# Example usage\n",
    "test_indices = train_indices\n",
    "train_indices = train_indices\n",
    "val_indices = val_indices\n",
    "size = len(post.nodes())\n",
    "\n",
    "test_mask = create_mask(test_indices, size)\n",
    "train_mask = create_mask(train_indices, size)\n",
    "val_mask = create_mask(val_indices, size)"
   ]
  },
  {
   "cell_type": "code",
   "execution_count": null,
   "metadata": {
    "tags": []
   },
   "outputs": [],
   "source": [
    "# Create an empty feature matrix\n",
    "feature_matrix = np.zeros((len(post.nodes), 10))\n",
    "\n",
    "# Iterate over the nodes in the 'post' network\n",
    "for i, node in enumerate(list(post.nodes)):\n",
    "    # Get the 'like' and 'comments' attributes of each node\n",
    "    followers = int(post.nodes[node]['followers'])\n",
    "    comments = int(post.nodes[node]['comments'])\n",
    "    like = int(post.nodes[node]['x'])\n",
    "    tipe = int(post.nodes[node]['followees'])\n",
    "    country = int(post.nodes[node]['posts'])\n",
    "    size = int(post.nodes[node]['hashtags'])\n",
    "    language = int(post.nodes[node]['tags'])\n",
    "    date = int(post.nodes[node]['category'])\n",
    "    pics = int(post.nodes[node]['pics'])\n",
    "    time = int(post.nodes[node]['time'])\n",
    "    tim = int(post.nodes[node]['y'])\n",
    "    # Assign the feature values to the feature matrix\n",
    "    feature_matrix[i] = [int(like), comments,followers,tipe,country,size,language,date,pics,time]\n",
    "\n",
    "# Print the feature matrix\n",
    "fm=feature_matrix\n"
   ]
  },
  {
   "cell_type": "code",
   "execution_count": null,
   "metadata": {
    "tags": []
   },
   "outputs": [],
   "source": [
    "import torch\n",
    "from torch_geometric.data import Data\n",
    "import networkx as nx\n",
    "# Extract node features and convert them to a tensor\n",
    "node_features = torch.tensor(fm, dtype=torch.float)\n",
    "\n",
    "edge_indices=list(post.edges())\n",
    "edge_indices = torch.tensor(edge_indices, dtype=torch.long).t().contiguous()\n",
    "\n",
    "# Optionally, extract edge features if available and convert them to a tensor\n",
    "edge_features = None  # Replace None with your edge feature extraction logic if needed\n",
    "\n",
    "truth=[]\n",
    "truth = [ndf['sponsored'][i] for i in range(len(ndf))] + [int(0)] * (len(post)-len(ndf))\n",
    "truth=torch.tensor(truth)\n",
    "test_truth =[test_split['sponsored'][i] for i in range(len(test_split))]\n",
    "# Create a PyTorch Geometric Data object\n",
    "data = Data(x=node_features, edge_index=edge_indices, edge_attr=edge_features,y=truth,train_mask=train_mask,test_mask=test_mask,val_mask=val_mask)"
   ]
  },
  {
   "cell_type": "code",
   "execution_count": null,
   "metadata": {
    "tags": []
   },
   "outputs": [],
   "source": [
    "data.x[0]"
   ]
  },
  {
   "cell_type": "code",
   "execution_count": null,
   "metadata": {
    "tags": []
   },
   "outputs": [],
   "source": [
    "import torch\n",
    "import torch.nn as nn\n",
    "import torch.nn.functional as F\n",
    "from torch_geometric.nn import GCNConv\n",
    "from torch_geometric.datasets import Planetoid\n",
    "from torch_geometric.data import DataLoader\n",
    "import torch\n",
    "from sklearn.metrics import precision_score, recall_score, f1_score\n",
    "\n",
    "# Define the GCN model\n",
    "class GCN(nn.Module):\n",
    "    def __init__(self, input_dim, hidden_dim, num_classes):\n",
    "        super(GCN, self).__init__()\n",
    "        self.conv1 = GCNConv(input_dim, hidden_dim)\n",
    "        self.conv2 = GCNConv(hidden_dim, num_classes)\n",
    "\n",
    "    def forward(self, x, edge_index):\n",
    "        x = self.conv1(x, edge_index)\n",
    "        x = F.relu(x)\n",
    "        x = self.conv2(x, edge_index)\n",
    "        x = F.relu(x)\n",
    "        return F.log_softmax(x, dim=1)\n",
    "\n",
    "# Check if GPU is available and set the device\n",
    "device = torch.device('cuda' if torch.cuda.is_available() else 'cpu')\n",
    "\n",
    "# Load the dataset (e.g., Cora)\n",
    "\n",
    "\n",
    "# Move the data to the device\n",
    "data = data.to(device)\n",
    "\n",
    "# Create DataLoader for batching\n",
    "loader = DataLoader([data], batch_size=1, shuffle=True)\n",
    "\n",
    "# Instantiate the model and move it to the device\n",
    "model = GCN(input_dim=10, hidden_dim=16, num_classes=2).to(device)\n",
    "\n",
    "# Set up the optimizer and loss function\n",
    "optimizer = torch.optim.Adam(model.parameters(), lr=0.01)\n",
    "criterion = nn.NLLLoss()\n",
    "\n",
    "# Training loop\n",
    "model.train()\n",
    "for epoch in range(200):\n",
    "    for batch in loader:\n",
    "        optimizer.zero_grad()\n",
    "        batch = batch.to(device)\n",
    "        out = model(data.x, data.edge_index)\n",
    "        loss = criterion(out, data.y)\n",
    "        loss.backward()\n",
    "        optimizer.step()\n",
    "\n",
    "# Evaluate the trained model\n",
    "model.eval()\n",
    "pred = model(data.x.to(device), data.edge_index.to(device)).argmax(dim=1).cpu().numpy()\n",
    "\n",
    "# Convert ground truth labels to numpy array\n",
    "ground_truth = data.y.cpu().numpy()\n",
    "\n",
    "# Calculate precision, recall, and F1 score\n",
    "precision = precision_score(ground_truth, pred)\n",
    "recall = recall_score(ground_truth, pred)\n",
    "f1 = f1_score(ground_truth, pred)\n",
    "accuracy = (pred == ground_truth).mean()\n",
    "\n",
    "print(f\"Accuracy: {accuracy:.4f}\")\n",
    "print(f\"Precision: {precision:.4f}\")\n",
    "print(f\"Recall: {recall:.4f}\")\n",
    "print(f\"F1 Score: {f1:.4f}\")\n"
   ]
  },
  {
   "cell_type": "code",
   "execution_count": null,
   "metadata": {
    "tags": []
   },
   "outputs": [],
   "source": [
    "torch.save(model,'/workspace/persistent/graph_kim')\n",
    "torch.load('/workspace/persistent/graph_kim')"
   ]
  },
  {
   "cell_type": "code",
   "execution_count": null,
   "metadata": {
    "tags": []
   },
   "outputs": [],
   "source": [
    "# Select the rows corresponding to train_indices using tensor indexing\n",
    "last_hidden_state = model(data.x, data.edge_index)\n",
    "selected_rows = last_hidden_state[test_indices]\n",
    "graph_state=[]\n",
    "for i in range(len(selected_rows)):\n",
    "    graph_state.append(torch.tensor(selected_rows[i]))"
   ]
  },
  {
   "cell_type": "code",
   "execution_count": null,
   "metadata": {
    "tags": []
   },
   "outputs": [],
   "source": [
    "import pickle\n",
    "with open('/workspace/persistent/graph_state_kim_train.pkl', 'wb') as file:\n",
    "    pickle.dump(graph_state, file)"
   ]
  },
  {
   "cell_type": "code",
   "execution_count": null,
   "metadata": {},
   "outputs": [],
   "source": [
    "import torch\n",
    "import torch.nn as nn\n",
    "from tqdm import tqdm\n",
    "\n",
    "# Define the self-attention module\n",
    "class SelfAttention(nn.Module):\n",
    "    def __init__(self, embedding_dim, num_heads):\n",
    "        super(SelfAttention, self).__init__()\n",
    "        self.attention = nn.MultiheadAttention(embed_dim=embedding_dim, num_heads=num_heads)\n",
    "\n",
    "    def forward(self, x):\n",
    "        # Apply self-attention\n",
    "        output, _ = self.attention(x, x, x)\n",
    "\n",
    "        return output.squeeze()\n",
    "\n",
    "# Define the parameters\n",
    "embedding_dim = 2\n",
    "num_heads = 2\n",
    "\n",
    "# Create an instance of the self-attention module\n",
    "self_attention = SelfAttention(embedding_dim, num_heads).cuda()\n",
    "\n",
    "# Convert the given tensor to a PyTorch tensor and move to GPU\n",
    "\n",
    "# Apply self-attention to all elements in the tensor\n",
    "graph_attention = []\n",
    "with tqdm(total=len(test_split), desc=\"Applying Attention\") as progress_bar:\n",
    "    for i,rows in test_split.iterrows():\n",
    "        # Apply self-attention\n",
    "        output = (graph_state[i].unsqueeze(0).to('cuda'))\n",
    "        with torch.no_grad():\n",
    "            output = output.cpu()\n",
    "        graph_attention.append(output)\n",
    "        progress_bar.update(1)"
   ]
  },
  {
   "cell_type": "code",
   "execution_count": null,
   "metadata": {
    "tags": []
   },
   "outputs": [],
   "source": [
    "import pickle\n",
    "with open('/workspace/persistent/graph_attention_kim_train.pkl', 'wb') as file:\n",
    "    pickle.dump(graph_attention, file)"
   ]
  },
  {
   "cell_type": "code",
   "execution_count": null,
   "metadata": {},
   "outputs": [],
   "source": [
    "graph_representation = []\n",
    "with tqdm(total=len(test_split), desc=\"Calculating the Image Score\") as progress_bar:\n",
    "    for i,rows in test_split.iterrows():\n",
    "        xi=graph_state[i].unsqueeze(0).to('cuda')*graph_attention[i].unsqueeze(0).to('cuda')\n",
    "        with torch.no_grad():\n",
    "            xi = xi.cpu()\n",
    "        graph_representation.append(xi)\n",
    "        progress_bar.update(1)"
   ]
  },
  {
   "cell_type": "code",
   "execution_count": null,
   "metadata": {
    "tags": []
   },
   "outputs": [],
   "source": [
    "import pickle\n",
    "with open('/workspace/persistent/graph_representation_kim_train.pkl', 'wb') as file:\n",
    "    pickle.dump(graph_representation, file)"
   ]
  }
 ],
 "metadata": {
  "kernelspec": {
   "display_name": "Python 3 (ipykernel)",
   "language": "python",
   "name": "python3"
  },
  "language_info": {
   "codemirror_mode": {
    "name": "ipython",
    "version": 3
   },
   "file_extension": ".py",
   "mimetype": "text/x-python",
   "name": "python",
   "nbconvert_exporter": "python",
   "pygments_lexer": "ipython3",
   "version": "3.8.10"
  }
 },
 "nbformat": 4,
 "nbformat_minor": 4
}
