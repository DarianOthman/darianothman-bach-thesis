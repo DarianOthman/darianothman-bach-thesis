{
 "cells": [
  {
   "cell_type": "code",
   "execution_count": null,
   "metadata": {},
   "outputs": [],
   "source": [
    "import networkx as nx\n",
    "import pandas as pd\n",
    "from sklearn.model_selection import train_test_split\n",
    "import numpy as np\n",
    "import re\n",
    "import scipy.sparse as sp\n",
    "import torch\n",
    "import torch.nn as nn\n",
    "import torch.nn.functional as F\n",
    "from torch_geometric.nn import GATConv\n",
    "from scipy.sparse import coo_matrix\n",
    "import evaluate"
   ]
  },
  {
   "cell_type": "code",
   "execution_count": null,
   "metadata": {
    "tags": []
   },
   "outputs": [],
   "source": [
    "post = nx.Graph()"
   ]
  },
  {
   "cell_type": "code",
   "execution_count": null,
   "metadata": {
    "tags": []
   },
   "outputs": [],
   "source": [
    "import pickle\n",
    "with open('/workspace/persistent/ct_df_posts_single_preds.pkl', 'rb') as file:\n",
    "    # Load the contents of the PKL file\n",
    "    ndf = pickle.load(file)"
   ]
  },
  {
   "cell_type": "code",
   "execution_count": null,
   "metadata": {
    "tags": []
   },
   "outputs": [],
   "source": [
    "ndf['id']=0\n",
    "ndf['id']=range(len(ndf))\n",
    "ndf = ndf.set_index(ndf['id'])"
   ]
  },
  {
   "cell_type": "code",
   "execution_count": null,
   "metadata": {},
   "outputs": [],
   "source": [
    "import pickle\n",
    "test_indices=[]\n",
    "with open('/workspace/persistent/test_split_thales.pkl', 'rb') as file:\n",
    "    # Load the contents of the PKL file\n",
    "    test_split = pickle.load(file)\n",
    "test_split=test_split.dropna(subset=['caption'])\n",
    "test_indices=test_split.index.tolist()\n",
    "test_split['id']=0\n",
    "test_split['id']=range(len(test_split))\n",
    "test_split = test_split.set_index(test_split['id'])\n",
    "test_target=[]\n",
    "for i,rows in test_split.iterrows():\n",
    "    test_target.append(int(test_split['has_disclosures'][i]))"
   ]
  },
  {
   "cell_type": "code",
   "execution_count": null,
   "metadata": {},
   "outputs": [],
   "source": [
    "import pickle\n",
    "train_indices=[]\n",
    "with open('/workspace/persistent/train_split_thales.pkl', 'rb') as file:\n",
    "    # Load the contents of the PKL file\n",
    "    train_split = pickle.load(file)\n",
    "train_split=train_split.dropna(subset=['caption'])\n",
    "train_indices=train_split.index.tolist()\n",
    "train_split['id']=0\n",
    "train_split['id']=range(len(train_split))\n",
    "train_split = train_split.set_index(train_split['id'])\n",
    "train_target=[]\n",
    "for i,rows in train_split.iterrows():\n",
    "    train_target.append(int(train_split['has_disclosures'][i]))"
   ]
  },
  {
   "cell_type": "code",
   "execution_count": null,
   "metadata": {},
   "outputs": [],
   "source": [
    "import pickle\n",
    "val_indices=[]\n",
    "with open('/workspace/persistent/eval_split_thales.pkl', 'rb') as file:\n",
    "    # Load the contents of the PKL file\n",
    "    eval_split = pickle.load(file)\n",
    "eval_split=eval_split.dropna(subset=['caption'])\n",
    "val_indices=eval_split.index.tolist()\n",
    "eval_split['id']=0\n",
    "eval_split['id']=range(len(eval_split))\n",
    "eval_split = eval_split.set_index(eval_split['id'])\n",
    "eval_target=[]\n",
    "for i,rows in eval_split.iterrows():\n",
    "    eval_target.append(int(eval_split['has_disclosures'][i]))"
   ]
  },
  {
   "cell_type": "code",
   "execution_count": null,
   "metadata": {
    "tags": []
   },
   "outputs": [],
   "source": [
    "ndf['size'] = ndf['followers'].apply(lambda x: 1 if x >= 600000 else 2)"
   ]
  },
  {
   "cell_type": "code",
   "execution_count": null,
   "metadata": {
    "tags": []
   },
   "outputs": [],
   "source": [
    "ndf['tagged_users']=ndf['tagged_users'].astype(str)"
   ]
  },
  {
   "cell_type": "code",
   "execution_count": null,
   "metadata": {
    "tags": []
   },
   "outputs": [],
   "source": [
    "# Transforming the 'sponsored' column into numerical values\n",
    "ndf['has_disclosures'] = np.where(ndf['has_disclosures'], 1, 0)"
   ]
  },
  {
   "cell_type": "code",
   "execution_count": null,
   "metadata": {
    "tags": []
   },
   "outputs": [],
   "source": [
    "category_mapping = {\n",
    "    'en':1,\n",
    "    'pt':2,\n",
    "    'de':3,\n",
    "    'nl':4,\n",
    "    'und':5,\n",
    "    'es':6,\n",
    "    'fr':7,\n",
    "    'da':8,\n",
    "    ' ':9,\n",
    "    'tr':10,\n",
    "    'id':11,\n",
    "    'ar':12\n",
    "}\n",
    "\n",
    "ndf['language'] = ndf['language'].map(category_mapping)"
   ]
  },
  {
   "cell_type": "code",
   "execution_count": null,
   "metadata": {
    "tags": []
   },
   "outputs": [],
   "source": [
    "category_mapping = {\n",
    "    'mega': 1,\n",
    "    'macro': 2\n",
    "}\n",
    "\n",
    "ndf['size'] = ndf['size'].map(category_mapping)"
   ]
  },
  {
   "cell_type": "code",
   "execution_count": null,
   "metadata": {
    "tags": []
   },
   "outputs": [],
   "source": [
    "category_mapping = {\n",
    "    'BR': 1,\n",
    "    'US': 2,\n",
    "    'NL': 3,\n",
    "    'DE':4\n",
    "}\n",
    "\n",
    "ndf['country'] = ndf['country'].map(category_mapping)"
   ]
  },
  {
   "cell_type": "code",
   "execution_count": null,
   "metadata": {
    "tags": []
   },
   "outputs": [],
   "source": [
    "category_mapping = {\n",
    "    'photo': 1,\n",
    "    'video': 2,\n",
    "    'album': 3\n",
    "}\n",
    "\n",
    "ndf['type'] = ndf['type'].map(category_mapping)"
   ]
  },
  {
   "cell_type": "code",
   "execution_count": null,
   "metadata": {
    "tags": []
   },
   "outputs": [],
   "source": [
    "for i,rows in ndf.iterrows():\n",
    "    ndf['date'][i]=ndf['date'][i].timestamp()"
   ]
  },
  {
   "cell_type": "code",
   "execution_count": null,
   "metadata": {
    "tags": []
   },
   "outputs": [],
   "source": [
    "ndf"
   ]
  },
  {
   "cell_type": "code",
   "execution_count": null,
   "metadata": {
    "tags": []
   },
   "outputs": [],
   "source": [
    "count = 0\n",
    "while count<len(ndf):\n",
    "    post.add_nodes_from([(ndf['shortcode'][count],{'x':float(ndf['likes'][count]),'type':float(ndf['type'][count]),'country':float(ndf['country'][count]),'size':float(ndf['size'][count]),'language':float(ndf['language'][count]),'followers':float(ndf['followers'][count]),'comments':float(ndf['comments'][count]),'date':float(ndf['date'][count])})])\n",
    "    count=count+1"
   ]
  },
  {
   "cell_type": "code",
   "execution_count": null,
   "metadata": {
    "tags": []
   },
   "outputs": [],
   "source": [
    "post.nodes['CaSRiPDOpaw']"
   ]
  },
  {
   "cell_type": "code",
   "execution_count": null,
   "metadata": {
    "tags": []
   },
   "outputs": [],
   "source": [
    "brand = nx.Graph()"
   ]
  },
  {
   "cell_type": "code",
   "execution_count": null,
   "metadata": {
    "tags": []
   },
   "outputs": [],
   "source": [
    "branddf = pd.read_csv('/workspace/persistent/brandsdf.csv')\n",
    "branddf=branddf.dropna(subset=['Category'])\n",
    "branddf['tag']=branddf['tag'].astype(str)"
   ]
  },
  {
   "cell_type": "code",
   "execution_count": null,
   "metadata": {
    "tags": []
   },
   "outputs": [],
   "source": [
    "branddf['id']=0\n",
    "branddf['id']=range(len(branddf))\n",
    "branddf = branddf.set_index(branddf['id'])\n",
    "branddf['tag'] = branddf['tag'].str[1:]"
   ]
  },
  {
   "cell_type": "code",
   "execution_count": null,
   "metadata": {
    "tags": []
   },
   "outputs": [],
   "source": [
    "pic = []\n",
    "shortcode = []\n",
    "\n",
    "for i, rows in ndf.iterrows():\n",
    "    row_text = re.sub(r\"['\\[\\]]\", '', ndf['tagged_users'][i])  # Remove single quotes, square brackets\n",
    "    row_matches = re.findall(r'[^,]+', row_text)  # Parse after every comma\n",
    "    pic.extend(row_matches)\n",
    "    shortcode.extend([ndf['shortcode'][i]] * len(row_matches))\n",
    "\n",
    "# Create a DataFrame with the matches and associated values\n",
    "imgdfo = pd.DataFrame({'brand': pic, 'shortcode': shortcode})\n"
   ]
  },
  {
   "cell_type": "code",
   "execution_count": null,
   "metadata": {
    "tags": []
   },
   "outputs": [],
   "source": [
    "imgdfo"
   ]
  },
  {
   "cell_type": "code",
   "execution_count": null,
   "metadata": {
    "tags": []
   },
   "outputs": [],
   "source": [
    "branddf['size']=None\n",
    "branddf['size'] = branddf['Followers'].apply(lambda x: 1 if x >= 600000 else 2)"
   ]
  },
  {
   "cell_type": "code",
   "execution_count": null,
   "metadata": {
    "tags": []
   },
   "outputs": [],
   "source": [
    "branddf"
   ]
  },
  {
   "cell_type": "code",
   "execution_count": null,
   "metadata": {},
   "outputs": [],
   "source": [
    "count = 0\n",
    "while count<len(branddf):\n",
    "    post.add_nodes_from([(branddf['tag'][count],{'x':0,'type':0,'country':0,'size':float(branddf['size'][count]),'language':0,'followers':float(branddf['Followers'][count]),'comments':0,'date':0})])\n",
    "    count=count+1"
   ]
  },
  {
   "cell_type": "code",
   "execution_count": null,
   "metadata": {
    "tags": []
   },
   "outputs": [],
   "source": [
    "count"
   ]
  },
  {
   "cell_type": "code",
   "execution_count": null,
   "metadata": {
    "tags": []
   },
   "outputs": [],
   "source": [
    "# Iterate over each row in ndf\n",
    "for i, row in imgdfo.iterrows():\n",
    "     post.add_edge(imgdfo['brand'][i], imgdfo['shortcode'][i])"
   ]
  },
  {
   "cell_type": "markdown",
   "metadata": {},
   "source": [
    "count = 0\n",
    "for node in post:\n",
    "    for i in post:\n",
    "        if post.nodes[node]['tag'] == post.nodes[i]['tag']:\n",
    "            post.add_edge(node,i)\n",
    "    count = count+1\n",
    "    print(count,'/',len(post.nodes()))"
   ]
  },
  {
   "cell_type": "code",
   "execution_count": null,
   "metadata": {
    "tags": []
   },
   "outputs": [],
   "source": [
    "post=nx.convert_node_labels_to_integers(post, first_label=0)"
   ]
  },
  {
   "cell_type": "code",
   "execution_count": null,
   "metadata": {
    "tags": []
   },
   "outputs": [],
   "source": [
    "import numpy as np\n",
    "\n",
    "def create_mask(indices, size):\n",
    "    mask = np.zeros(size, dtype=bool)\n",
    "    mask[indices] = True\n",
    "    return mask\n",
    "\n",
    "# Example usage\n",
    "test_indices = test_indices\n",
    "train_indices = train_indices\n",
    "val_indices = val_indices\n",
    "size = len(post.nodes())\n",
    "\n",
    "test_mask = create_mask(test_indices, size)\n",
    "train_mask = create_mask(train_indices, size)\n",
    "val_mask = create_mask(val_indices, size)"
   ]
  },
  {
   "cell_type": "code",
   "execution_count": null,
   "metadata": {},
   "outputs": [],
   "source": [
    "# Create an empty feature matrix\n",
    "feature_matrix = np.zeros((len(post.nodes), 7))\n",
    "\n",
    "# Iterate over the nodes in the 'post' network\n",
    "for i, node in enumerate(list(post.nodes)[:(len(ndf))]):\n",
    "    # Get the 'like' and 'comments' attributes of each node\n",
    "    followers = post.nodes[node]['followers']\n",
    "    comments = post.nodes[node]['comments']\n",
    "    like = post.nodes[node]['x']\n",
    "    tipe = post.nodes[node]['type']\n",
    "    country = post.nodes[node]['country']\n",
    "    size = post.nodes[node]['size']\n",
    "    language = post.nodes[node]['language']\n",
    "    date = post.nodes[node]['date']\n",
    "    \n",
    "    # Assign the feature values to the feature matrix\n",
    "    feature_matrix[i] = [like, comments,followers,tipe,country,language,date]\n",
    "\n",
    "# Print the feature matrix\n",
    "fm=feature_matrix\n",
    "fm"
   ]
  },
  {
   "cell_type": "code",
   "execution_count": null,
   "metadata": {},
   "outputs": [],
   "source": [
    "import torch\n",
    "from torch_geometric.data import Data\n",
    "import networkx as nx\n",
    "# Extract node features and convert them to a tensor\n",
    "node_features = torch.tensor(fm, dtype=torch.float)\n",
    "\n",
    "edge_indices=list(post.edges())\n",
    "edge_indices = torch.tensor(edge_indices, dtype=torch.long).t().contiguous()\n",
    "\n",
    "# Optionally, extract edge features if available and convert them to a tensor\n",
    "edge_features = None  # Replace None with your edge feature extraction logic if needed\n",
    "\n",
    "truth=[]\n",
    "truth = [ndf['has_disclosures'][i] for i in range(len(ndf))] + [int(0)] * (len(post)-len(ndf))\n",
    "truth=torch.tensor(truth)\n",
    "test_truth =[test_split['has_disclosures'][i] for i in range(len(test_split))]\n",
    "# Create a PyTorch Geometric Data object\n",
    "data = Data(x=node_features, edge_index=edge_indices, edge_attr=edge_features,y=truth,train_mask=train_mask,test_mask=test_mask,val_mask=val_mask)"
   ]
  },
  {
   "cell_type": "code",
   "execution_count": null,
   "metadata": {
    "tags": []
   },
   "outputs": [],
   "source": [
    "import torch\n",
    "import torch.nn as nn\n",
    "import torch.nn.functional as F\n",
    "from torch_geometric.nn import GCNConv\n",
    "from torch_geometric.datasets import Planetoid\n",
    "from torch_geometric.data import DataLoader\n",
    "import torch\n",
    "from sklearn.metrics import precision_score, recall_score, f1_score\n",
    "\n",
    "# Define the GCN model\n",
    "class GCN(nn.Module):\n",
    "    def __init__(self, input_dim, hidden_dim, num_classes):\n",
    "        super(GCN, self).__init__()\n",
    "        self.conv1 = GCNConv(input_dim, hidden_dim)\n",
    "        self.conv2 = GCNConv(hidden_dim, num_classes)\n",
    "\n",
    "    def forward(self, x, edge_index):\n",
    "        x = self.conv1(x, edge_index)\n",
    "        x = F.relu(x)\n",
    "        x = self.conv2(x, edge_index)\n",
    "        x = F.relu(x)\n",
    "        return F.log_softmax(x, dim=1)\n",
    "\n",
    "# Check if GPU is available and set the device\n",
    "device = torch.device('cuda' if torch.cuda.is_available() else 'cpu')\n",
    "\n",
    "# Load the dataset (e.g., Cora)\n",
    "\n",
    "\n",
    "# Move the data to the device\n",
    "data = data.to(device)\n",
    "\n",
    "# Create DataLoader for batching\n",
    "loader = DataLoader([data], batch_size=1, shuffle=True)\n",
    "\n",
    "# Instantiate the model and move it to the device\n",
    "model = GCN(input_dim=7, hidden_dim=16, num_classes=2).to(device)\n",
    "\n",
    "# Set up the optimizer and loss function\n",
    "optimizer = torch.optim.Adam(model.parameters(), lr=0.01)\n",
    "criterion = nn.NLLLoss()\n",
    "\n",
    "# Training loop\n",
    "model.train()\n",
    "for epoch in range(200):\n",
    "    for batch in loader:\n",
    "        optimizer.zero_grad()\n",
    "        batch = batch.to(device)\n",
    "        out = model(data.x, data.edge_index)\n",
    "        loss = criterion(out, data.y)\n",
    "        loss.backward()\n",
    "        optimizer.step()\n",
    "\n",
    "# Evaluate the trained model\n",
    "model.eval()\n",
    "pred = model(data.x.to(device), data.edge_index.to(device)).argmax(dim=1).cpu().numpy()\n",
    "\n",
    "# Convert ground truth labels to numpy array\n",
    "ground_truth = data.y.cpu().numpy()\n",
    "\n",
    "# Calculate precision, recall, and F1 score\n",
    "precision = precision_score(ground_truth, pred)\n",
    "recall = recall_score(ground_truth, pred)\n",
    "f1 = f1_score(ground_truth, pred)\n",
    "accuracy = (pred == ground_truth).mean()\n",
    "\n",
    "print(f\"Accuracy: {accuracy:.4f}\")\n",
    "print(f\"Precision: {precision:.4f}\")\n",
    "print(f\"Recall: {recall:.4f}\")\n",
    "print(f\"F1 Score: {f1:.4f}\")\n"
   ]
  },
  {
   "cell_type": "code",
   "execution_count": null,
   "metadata": {
    "tags": []
   },
   "outputs": [],
   "source": [
    "# Select the rows corresponding to train_indices using tensor indexing\n",
    "last_hidden_state = model(data.x, data.edge_index)\n",
    "selected_rows = last_hidden_state[test_indices]\n",
    "graph_state=[]\n",
    "for i in range(len(selected_rows)):\n",
    "    graph_state.append(torch.tensor(selected_rows[i]))"
   ]
  },
  {
   "cell_type": "code",
   "execution_count": null,
   "metadata": {
    "tags": []
   },
   "outputs": [],
   "source": [
    "import pickle\n",
    "with open('/workspace/persistent/graph_state_thales.pkl', 'wb') as file:\n",
    "    pickle.dump(graph_state, file)"
   ]
  },
  {
   "cell_type": "code",
   "execution_count": null,
   "metadata": {
    "tags": []
   },
   "outputs": [],
   "source": [
    "import torch\n",
    "import torch.nn as nn\n",
    "from tqdm import tqdm\n",
    "\n",
    "# Define the self-attention module\n",
    "class SelfAttention(nn.Module):\n",
    "    def __init__(self, embedding_dim, num_heads):\n",
    "        super(SelfAttention, self).__init__()\n",
    "        self.attention = nn.MultiheadAttention(embed_dim=embedding_dim, num_heads=num_heads)\n",
    "\n",
    "    def forward(self, x):\n",
    "        # Apply self-attention\n",
    "        output, _ = self.attention(x, x, x)\n",
    "\n",
    "        return output.squeeze()\n",
    "\n",
    "# Define the parameters\n",
    "embedding_dim = 2\n",
    "num_heads = 2\n",
    "\n",
    "# Create an instance of the self-attention module\n",
    "self_attention = SelfAttention(embedding_dim, num_heads).cuda()\n",
    "\n",
    "# Convert the given tensor to a PyTorch tensor and move to GPU\n",
    "\n",
    "# Apply self-attention to all elements in the tensor\n",
    "graph_attention = []\n",
    "with tqdm(total=len(test_split), desc=\"Applying Attention\") as progress_bar:\n",
    "    for i,rows in test_split.iterrows():\n",
    "        # Apply self-attention\n",
    "        output = (graph_state[i].unsqueeze(0).to('cuda'))\n",
    "        with torch.no_grad():\n",
    "            output = output.cpu()\n",
    "        graph_attention.append(output)\n",
    "        progress_bar.update(1)"
   ]
  },
  {
   "cell_type": "code",
   "execution_count": null,
   "metadata": {
    "tags": []
   },
   "outputs": [],
   "source": [
    "import pickle\n",
    "with open('/workspace/persistent/graph_attention_thales.pkl', 'wb') as file:\n",
    "    pickle.dump(graph_attention, file)"
   ]
  },
  {
   "cell_type": "code",
   "execution_count": null,
   "metadata": {
    "tags": []
   },
   "outputs": [],
   "source": [
    "graph_representation = []\n",
    "with tqdm(total=len(test_split), desc=\"Calculating the Image Score\") as progress_bar:\n",
    "    for i,rows in test_split.iterrows():\n",
    "        xi=graph_state[i].unsqueeze(0).to('cuda')*graph_attention[i].unsqueeze(0).to('cuda')\n",
    "        with torch.no_grad():\n",
    "            xi = xi.cpu()\n",
    "        graph_representation.append(xi)\n",
    "        progress_bar.update(1)"
   ]
  },
  {
   "cell_type": "code",
   "execution_count": null,
   "metadata": {
    "tags": []
   },
   "outputs": [],
   "source": [
    "import pickle\n",
    "with open('/workspace/persistent/graph_representation_thales.pkl', 'wb') as file:\n",
    "    pickle.dump(graph_representation, file)"
   ]
  }
 ],
 "metadata": {
  "kernelspec": {
   "display_name": "Python 3 (ipykernel)",
   "language": "python",
   "name": "python3"
  },
  "language_info": {
   "codemirror_mode": {
    "name": "ipython",
    "version": 3
   },
   "file_extension": ".py",
   "mimetype": "text/x-python",
   "name": "python",
   "nbconvert_exporter": "python",
   "pygments_lexer": "ipython3",
   "version": "3.8.10"
  }
 },
 "nbformat": 4,
 "nbformat_minor": 4
}
