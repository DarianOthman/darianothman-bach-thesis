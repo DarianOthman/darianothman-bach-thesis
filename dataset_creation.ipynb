#Importing the dataset
import pandas as pd
df = pd.read_csv(r'jsondf.csv', index_col='id')
df
count=0
while count<len(df):
    df['edge_media_to_caption.edges'].iloc[count]=df['edge_media_to_caption.edges'].iloc[count][20:]
    count=count+1
count=0
while count<len(df):
    df['edge_media_to_caption.edges'].iloc[count]=df['edge_media_to_caption.edges'].iloc[count][:-4]
    count=count+1
df
#Exploring the dataset
df.isna().any()
print('The shape of the dataset is:',df.shape)
df.describe()
df.drop_duplicates()
print('The shape of the dataset is:',df.shape)

df.columns
#Unamed:0 column
df=df.drop('Unnamed: 0', axis=1)
print('The new shape of the dataset is:',df.shape)
#__typename column
df['__typename'].describe()
df=df.drop('__typename', axis=1)
print('The new shape of the dataset is:',df.shape)
#comments_disabled column is ok
#display_url column
df=df.drop('display_url', axis=1)
print('The new shape of the dataset is:',df.shape)
#gating_info column
df['gating_info'].describe()
df=df.drop('gating_info', axis=1)
print('The new shape of the dataset is:',df.shape)
#media_preview column
df['media_preview'].describe()
df=df.drop('media_preview', axis=1)
print('The new shape of the dataset is:',df.shape)
#taken_at_timestamp column
df['taken_at_timestamp'].dropna() #taken_at_timestamp column is ok
#thumbnail_resources column
df['thumbnail_resources'].head()
df=df.drop('thumbnail_resources', axis=1)
print('The new shape of the dataset is:',df.shape)
#thumbnail_src column
df['thumbnail_src'].describe()
df=df.drop('thumbnail_src', axis=1)
print('The new shape of the dataset is:',df.shape)
# dimensions.height and dimensions.width columns
df=df.drop('dimensions.height', axis=1)
df=df.drop('dimensions.width', axis=1)
print('The new shape of the dataset is:',df.shape)
#edge_media_preview_like.count columns
df['edge_media_preview_like.count'].dropna() #--> no NA so the column is good
#edge_media_to_comment.count column
df['edge_media_to_comment.count'].dropna()#--> no NA so the column is good
#owner.id column
df['owner.id'].head()
#caption_is_edited column
df['caption_is_edited'].dropna()
df=df.drop('caption_is_edited', axis=1)
print('The new shape of the dataset is:',df.shape)
#display_resources column
df['display_resources'].describe()
df=df.drop('display_resources', axis=1)
print('The new shape of the dataset is:',df.shape)
#edge_media_to_comment.count column
df['edge_media_to_comment.count'].describe()
df['edge_media_to_comment.count'].dropna() #--> no NA so the column is good
#has_ranked_comments column
df['has_ranked_comments'].describe()
df=df.drop('has_ranked_comments', axis=1)
print('The new shape of the dataset is:',df.shape)
#should_log_client_event column
df['should_log_client_event'].describe()
df=df.drop('should_log_client_event', axis=1)
print('The new shape of the dataset is:',df.shape)
#tracking_token column
df['tracking_token'].describe()
df=df.drop('tracking_token', axis=1)
print('The new shape of the dataset is:',df.shape)
#viewer_can_reshare column
df['viewer_can_reshare'].describe()
df=df.drop('viewer_can_reshare', axis=1)
print('The new shape of the dataset is:',df.shape)
#viewer_has_liked column
df['viewer_has_liked'].describe()
df=df.drop('viewer_has_liked', axis=1)
print('The new shape of the dataset is:',df.shape)
#viewer_has_saved column
df['viewer_has_saved'].describe()
df=df.drop('viewer_has_saved', axis=1)
print('The new shape of the dataset is:',df.shape)
#viewer_has_saved_to_collection column
df['viewer_has_saved_to_collection'].describe()
df=df.drop('viewer_has_saved_to_collection', axis=1)
print('The new shape of the dataset is:',df.shape)
#viewer_in_photo_of_you column
df['viewer_in_photo_of_you'].describe()
df=df.drop('viewer_in_photo_of_you', axis=1)
print('The new shape of the dataset is:',df.shape)
#edge_media_preview_like.edges column
df['edge_media_preview_like.edges'].head()
df['edge_media_preview_like.edges'].describe()
df=df.drop('edge_media_preview_like.edges', axis=1)
print('The new shape of the dataset is:',df.shape)
#edge_media_to_comment.edges column
df['edge_media_to_comment.edges'].head()
df=df.drop('edge_media_to_comment.edges', axis=1)
print('The new shape of the dataset is:',df.shape)
#edge_media_to_comment.page_info.end_cursor column
df['edge_media_to_comment.page_info.end_cursor'].describe()
df=df.drop('edge_media_to_comment.page_info.end_cursor', axis=1)
print('The new shape of the dataset is:',df.shape)
#edge_media_to_comment.page_info.has_next_page column
df['edge_media_to_comment.page_info.has_next_page'].describe()
df=df.drop('edge_media_to_comment.page_info.has_next_page', axis=1)
print('The new shape of the dataset is:',df.shape)
#edge_media_to_sponsor_user.edges column
df['edge_media_to_sponsor_user.edges'].describe()
df=df.drop('edge_media_to_sponsor_user.edges', axis=1)
print('The new shape of the dataset is:',df.shape)
#edge_media_to_tagged_user.edges column
df['edge_media_to_tagged_user.edges'].describe()
df=df.drop('edge_media_to_tagged_user.edges', axis=1)
print('The new shape of the dataset is:',df.shape)
#edge_web_media_to_related_media.edges column
df['edge_web_media_to_related_media.edges'].describe()
df=df.drop('edge_web_media_to_related_media.edges', axis=1)
print('The new shape of the dataset is:',df.shape)
#location.address_json column
df['location.address_json'].describe()
df=df.drop('location.address_json', axis=1)
print('The new shape of the dataset is:',df.shape)
#location.has_public_page column
df['location.has_public_page'].describe()
df=df.drop('location.has_public_page', axis=1)
print('The new shape of the dataset is:',df.shape)
#location.id column
df['location.id'].dropna()
df=df.drop('location.id', axis=1)
print('The new shape of the dataset is:',df.shape)
#location.name column
df['location.name'].dropna()
df=df.drop('location.name', axis=1)
print('The new shape of the dataset is:',df.shape)
#location.slug column
df['location.slug'].dropna()
df=df.drop('location.slug', axis=1)
print('The new shape of the dataset is:',df.shape)
#owner.blocked_by_viewer column
df['owner.blocked_by_viewer'].describe()
df=df.drop('owner.blocked_by_viewer', axis=1)
print('The new shape of the dataset is:',df.shape)
#owner.followed_by_viewer column
df['owner.followed_by_viewer'].describe()
df=df.drop('owner.followed_by_viewer', axis=1)
print('The new shape of the dataset is:',df.shape)
#owner.full_name column
df['owner.full_name'].describe()
df=df.drop('owner.full_name', axis=1)
print('The new shape of the dataset is:',df.shape)
#owner.has_blocked_viewer column
df['owner.has_blocked_viewer'].describe()
df=df.drop('owner.has_blocked_viewer', axis=1)
print('The new shape of the dataset is:',df.shape)
#owner.is_private column
df['owner.is_private'].describe()
df=df.drop('owner.is_private', axis=1)
print('The new shape of the dataset is:',df.shape)
#owner.is_unpublished column
df['owner.is_unpublished'].describe()
df=df.drop('owner.is_unpublished', axis=1)
print('The new shape of the dataset is:',df.shape)
#owner.is_verified column
df['owner.is_verified'].describe()
df=df.drop('owner.is_verified', axis=1)
print('The new shape of the dataset is:',df.shape)
#owner.profile_pic_url column
df['owner.profile_pic_url'].describe()
df=df.drop('owner.profile_pic_url', axis=1)
print('The new shape of the dataset is:',df.shape)
#owner.requested_by_viewer column
df['owner.requested_by_viewer'].describe()
df=df.drop('owner.requested_by_viewer', axis=1)
print('The new shape of the dataset is:',df.shape)
#owner.username column
df['owner.username'].describe()
df=df.drop('owner.username', axis=1)
print('The new shape of the dataset is:',df.shape)
#location column
df['location'].dropna()
df=df.drop('location', axis=1)
print('The new shape of the dataset is:',df.shape)
#Take out the no caption rows
df=df[df['edge_media_to_caption.edges']!='[]']
print('The new shape of the dataset is:',df.shape)
#Let's have a look at the new-look dataframe
df
#Creating a new csv file to manipulate
df = df.to_csv('jsondf_new.csv', index = True)
#Opening the CSV file
import pandas as pd
df = pd.read_csv(r'jsondf_new.csv', index_col= None)
#From int64 to str
df['id']=df['id'].astype(str)
df
#Opening the post_info.xslx file
info=pd.read_excel(r'post_info.xlsx', header=None)
info.columns=['num','owner.id','sponsored','id','pic']
#From col obj to str for compatibility
info['id']=info['id'].astype(str)
#For easy merging
info['id'] = info['id'].str.replace(r'.json', '')
info
#Merging
mdf = pd.DataFrame(pd.merge(df, info, how= 'outer', left_on=['id'], right_on=['id']))
mdf=mdf.dropna(subset=['comments_disabled'])
mdf=mdf.set_index(['id'])
mdf
mdf['pic_count']=0
count = 0
while count<len(mdf):
    mdf["pic_count"][count]=str(mdf['pic'][count]).count('.jpg')
    count = count+1
mdf['hashtag_count']=0
count = 0
while count<len(mdf):
    mdf["hashtag_count"][count]=str(mdf['edge_media_to_caption.edges'][count]).count('#')
    count = count+1
mdf['tag_count']=0
count = 0
while count<len(mdf):
    mdf["tag_count"][count]=str(mdf['edge_media_to_caption.edges'][count]).count('@')
    count = count+1
mdf
mdf.to_csv(r'mdf.csv', index = True)
import pandas as pd
mdf = pd.read_csv(r'mdf.csv')
import pandas as pd
influencerdf = pd.read_csv(r'influencerdf.csv')
#Merging
ndf = pd.DataFrame(pd.merge(left=mdf, right=influencerdf, how='outer', left_on=['owner.id_y'], right_on=['Name_lower']))
ndf
ndf=ndf.dropna(subset=['comments_disabled','Posts'])
ndf
import pandas as pd
brandsdf = pd.read_csv(r'brandsdf.csv')
brandsdf=brandsdf.dropna(subset=['Category'])
brandsdf
brandsdf=brandsdf.drop(['ind'],axis=1)
brandsdf
brandsdf=brandsdf.drop(['ind.1'],axis=1)
brandsdf['ind']=range(len(brandsdf))
brandsdf=brandsdf.set_index(brandsdf['ind'])
brandsdf['tag']
count=0
while count<len(brandsdf):
  brandsdf['tag'][count]= '@'+brandsdf['tag'][count]
  count=count+1
brandsdf
brandsdf.to_csv(r'brandsdf.csv', index = True)
ndf['ind']=range(len(ndf))
ndf=ndf.set_index(ndf['ind'])
ndf['tag']=0
ndf['followees']=0
ndf['followers']=0
ndf['posts']=0
count=0
cont=0
while cont<len(ndf):
    while count<len(brandsdf):
        if (brandsdf['tag'][count] in ndf['edge_media_to_caption.edges'][cont])==True:
            ndf['tag'].loc[cont]= brandsdf['tag'].loc[count]
            ndf['followers'].loc[cont]= brandsdf['Followers'].loc[count]
            ndf['followees'].loc[cont]= brandsdf['Followees'].loc[count]
            ndf['posts'].loc[cont]= brandsdf['Posts'].loc[count]
        count=count+1
    cont=cont+1
    count=count/len(brandsdf)
    print(cont,'/',len(ndf))
ndf.to_csv(r'ndf.csv', index = True)
import pandas as pd
ndf = pd.read_csv(r'ndf.csv')
import pandas as pd
df=pd.DataFrame(list(ndf['edge_media_to_caption.edges']),columns=['text'])
dictio=pd.DataFrame()
dictio['count']=df.text.apply(lambda x: pd.value_counts(x.split(" "))).sum(axis = 0)
ndf['count']=0
count = 0
cont = 0
while cont<len(ndf):
    while count<len(dictio):
        if (dictio.index[count] in ndf['edge_media_to_caption.edges'][cont])==True:
            ndf['count'][cont]=ndf['count'][cont]+dictio['count'][count]
        count=count+1
    cont=cont+1
    count=int(count/len(dictio))
    print(cont,'/',len(ndf))
ndf['chisquare']=0
cont = 0
while cont<len(ndf):
    ndf['chisquare'][cont] = ((ndf['count'][cont] - ndf['count'].mean())**2)//ndf['count'][cont]
    cont=cont+1
    print(cont,'/',len(ndf))
ndf
ndf.to_csv(r'C:\Users\I6240624\OneDrive\TRP\Work\Code\ndf.csv', index = True)
import pandas as pd
ndf = pd.read_csv(r'C:\Users\I6240624\OneDrive\TRP\Work\Code\ndf.csv', index_col='id')
keyword=dictio.sort_values(ascending=False, by=['count'])
keyword=keyword.head(100)
keyword
ndf.columns
import pandas as pd
from sklearn.model_selection import train_test_split
train_ndf, test_ndf = train_test_split(ndf, test_size=0.2, random_state=42)
val_ndf, test_ndf = train_test_split(test_ndf, test_size=0.5, random_state=42)
train_ndf.shape
train_ndf.to_csv(r'C:\Users\I6240624\OneDrive\TRP\Work\Code\train_ndf.csv', index = True)
test_ndf.to_csv(r'C:\Users\I6240624\OneDrive\TRP\Work\Code\test_ndf.csv', index = True)
val_ndf.to_csv(r'C:\Users\I6240624\OneDrive\TRP\Work\Code\val_ndf.csv', index = True)
